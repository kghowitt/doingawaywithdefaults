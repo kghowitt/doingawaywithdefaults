{
 "cells": [
  {
   "cell_type": "code",
   "execution_count": 1,
   "metadata": {
    "collapsed": false
   },
   "outputs": [
    {
     "name": "stdout",
     "output_type": "stream",
     "text": [
      "{'HIP': 1.2e-322, 'HCP': 1.7613386834543322e-296, 'AH': 0.9999999999999973, 'lang': '611', 'ItoC': 1.2e-322, 'PI': 0.9999999999999973, 'WHM': 0.9999999999999445, 'VtoI': 1.2e-322, 'SP': 1.2e-322, 'OPT': 0.5, 'QInv': 0.9999999999999973, 'TM': 1.2e-322, 'NS': 3.7500265453151185e-09, 'NT': 4.230381004906737e-17}\n"
     ]
    }
   ],
   "source": [
    "from NDChild import NDChild\n",
    "from time import clock\n",
    "from random import choice\n",
    "import csv\n",
    "from datetime import datetime\n",
    "import os\n",
    "from sys import argv\n",
    "from argparse import ArgumentParser\n",
    "from Sentence import Sentence\n",
    "\n",
    "#GLOBALS\n",
    "rate = 0.02\n",
    "conservativerate = 0.001\n",
    "numberofsentences = 500000\n",
    "threshold = .001\n",
    "\n",
    "language = \"611\" #English\n",
    "#language = \"584\" #French\n",
    "#language = \"2253\" #German\n",
    "#language = \"3856\" #Japanese\n",
    "\n",
    "infoFile = open('EngFrJapGerm.txt','rU')\n",
    "\n",
    "LD = []\n",
    "\n",
    "def pickASentence(languageDomain):\n",
    "    \n",
    "    return choice(languageDomain)\n",
    "\n",
    "def createLD():\n",
    "    for line in infoFile:\n",
    "        [grammStr, inflStr, sentenceStr] = line.split(\"\\t\")\n",
    "        sentenceStr = sentenceStr.rstrip()\n",
    "        s = Sentence([grammStr, inflStr, sentenceStr]) #constructor creates sentenceList\n",
    "        if grammStr == language:\n",
    "            LD.append(s)\n",
    "        \n",
    "\n",
    "\n",
    "####   MAIN\n",
    "createLD()\n",
    "\n",
    "aChild = NDChild(rate, conservativerate, language)\n",
    "\n",
    "for i in range(numberofsentences):\n",
    "    s = pickASentence(LD)\n",
    "    aChild.consumeSentence(s)\n",
    "    \n",
    "\n",
    "print aChild.grammar\n",
    "\n",
    "        \n",
    "\n",
    "infoFile.close()\n",
    "\n"
   ]
  },
  {
   "cell_type": "code",
   "execution_count": null,
   "metadata": {
    "collapsed": true
   },
   "outputs": [],
   "source": []
  }
 ],
 "metadata": {
  "anaconda-cloud": {},
  "kernelspec": {
   "display_name": "Python [Root]",
   "language": "python",
   "name": "Python [Root]"
  },
  "language_info": {
   "codemirror_mode": {
    "name": "ipython",
    "version": 2
   },
   "file_extension": ".py",
   "mimetype": "text/x-python",
   "name": "python",
   "nbconvert_exporter": "python",
   "pygments_lexer": "ipython2",
   "version": "2.7.12"
  }
 },
 "nbformat": 4,
 "nbformat_minor": 0
}
